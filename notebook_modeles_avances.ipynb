{
 "cells": [
  {
   "cell_type": "markdown",
   "metadata": {},
   "source": [
    "# **Modèle sur mesure avancé**\n",
    "\n",
    "Développement d'un modèle basé sur des réseaux de neurones profonds pour prédire le sentiment associé à un tweet."
   ]
  },
  {
   "cell_type": "markdown",
   "metadata": {},
   "source": [
    "## **1. Importation des données**"
   ]
  },
  {
   "cell_type": "code",
   "execution_count": 6,
   "metadata": {},
   "outputs": [
    {
     "name": "stdout",
     "output_type": "stream",
     "text": [
      "<class 'pandas.core.frame.DataFrame'>\n",
      "RangeIndex: 1600000 entries, 0 to 1599999\n",
      "Data columns (total 6 columns):\n",
      " #   Column  Non-Null Count    Dtype \n",
      "---  ------  --------------    ----- \n",
      " 0   target  1600000 non-null  int64 \n",
      " 1   id      1600000 non-null  int64 \n",
      " 2   date    1600000 non-null  object\n",
      " 3   flag    1600000 non-null  object\n",
      " 4   user    1600000 non-null  object\n",
      " 5   text    1600000 non-null  object\n",
      "dtypes: int64(2), object(4)\n",
      "memory usage: 73.2+ MB\n"
     ]
    }
   ],
   "source": [
    "#chargement des données\n",
    "import pandas as pd\n",
    "D = pd.read_csv(\"data/training.1600000.processed.noemoticon.csv\",sep=\",\",names=['target', 'id', 'date', 'flag', 'user', 'text'],encoding=\"UTF\",encoding_errors=\"ignore\")\n",
    "D.info()"
   ]
  },
  {
   "cell_type": "code",
   "execution_count": 7,
   "metadata": {},
   "outputs": [
    {
     "name": "stdout",
     "output_type": "stream",
     "text": [
      "0    800000\n",
      "4    800000\n",
      "Name: target, dtype: int64\n"
     ]
    }
   ],
   "source": [
    "#distribution des classes\n",
    "print(D.target.value_counts())"
   ]
  },
  {
   "cell_type": "markdown",
   "metadata": {},
   "source": [
    "## **2. Echantillonnage**"
   ]
  },
  {
   "cell_type": "code",
   "execution_count": 8,
   "metadata": {},
   "outputs": [
    {
     "name": "stdout",
     "output_type": "stream",
     "text": [
      "[0, 4]\n"
     ]
    },
    {
     "data": {
      "text/html": [
       "<div>\n",
       "<style scoped>\n",
       "    .dataframe tbody tr th:only-of-type {\n",
       "        vertical-align: middle;\n",
       "    }\n",
       "\n",
       "    .dataframe tbody tr th {\n",
       "        vertical-align: top;\n",
       "    }\n",
       "\n",
       "    .dataframe thead th {\n",
       "        text-align: right;\n",
       "    }\n",
       "</style>\n",
       "<table border=\"1\" class=\"dataframe\">\n",
       "  <thead>\n",
       "    <tr style=\"text-align: right;\">\n",
       "      <th></th>\n",
       "      <th>text</th>\n",
       "      <th>target</th>\n",
       "    </tr>\n",
       "  </thead>\n",
       "  <tbody>\n",
       "    <tr>\n",
       "      <th>0</th>\n",
       "      <td>oh god whits pissed n shes drivin, in the rain...</td>\n",
       "      <td>0</td>\n",
       "    </tr>\n",
       "    <tr>\n",
       "      <th>1</th>\n",
       "      <td>driving back from myrtle beach</td>\n",
       "      <td>0</td>\n",
       "    </tr>\n",
       "    <tr>\n",
       "      <th>2</th>\n",
       "      <td>Saying byebye to AM's Refuge and Extension  wi...</td>\n",
       "      <td>0</td>\n",
       "    </tr>\n",
       "    <tr>\n",
       "      <th>3</th>\n",
       "      <td>@SarahSaner Did you she fell of her horse agai...</td>\n",
       "      <td>0</td>\n",
       "    </tr>\n",
       "    <tr>\n",
       "      <th>4</th>\n",
       "      <td>@SalioElSol08  save me any.</td>\n",
       "      <td>0</td>\n",
       "    </tr>\n",
       "  </tbody>\n",
       "</table>\n",
       "</div>"
      ],
      "text/plain": [
       "                                                text  target\n",
       "0  oh god whits pissed n shes drivin, in the rain...       0\n",
       "1                    driving back from myrtle beach        0\n",
       "2  Saying byebye to AM's Refuge and Extension  wi...       0\n",
       "3  @SarahSaner Did you she fell of her horse agai...       0\n",
       "4                        @SalioElSol08  save me any.       0"
      ]
     },
     "execution_count": 8,
     "metadata": {},
     "output_type": "execute_result"
    }
   ],
   "source": [
    "# récupération des targets\n",
    "target_values = D['target'].value_counts().index.to_list()\n",
    "print(target_values)\n",
    "\n",
    "# échantillonage,  on garde 15000 tweets de chaque target\n",
    "list_targets = []\n",
    "list_texts = []\n",
    "for target in target_values:\n",
    "    dataframe = D[D['target'] == target].sample(n=15000, random_state=0)\n",
    "    list_targets.extend(dataframe['target'])\n",
    "    list_texts.extend(dataframe['text'])\n",
    "\n",
    "DS = pd.DataFrame()\n",
    "DS['text'] = list_texts\n",
    "DS['target'] = list_targets\n",
    "\n",
    "DS.head()"
   ]
  },
  {
   "cell_type": "markdown",
   "metadata": {},
   "source": [
    "## **3. Nettoyage**"
   ]
  },
  {
   "cell_type": "code",
   "execution_count": 9,
   "metadata": {},
   "outputs": [
    {
     "name": "stdout",
     "output_type": "stream",
     "text": [
      "['!', '\"', '#', '$', '%', '&', \"'\", '(', ')', '*', '+', ',', '-', '.', '/', ':', ';', '<', '=', '>', '?', '@', '[', '\\\\', ']', '^', '_', '`', '{', '|', '}', '~']\n",
      "\n",
      "\n",
      "['i', 'me', 'my', 'myself', 'we', 'our', 'ours', 'ourselves', 'you', \"you're\", \"you've\", \"you'll\", \"you'd\", 'your', 'yours', 'yourself', 'yourselves', 'he', 'him', 'his', 'himself', 'she', \"she's\", 'her', 'hers', 'herself', 'it', \"it's\", 'its', 'itself', 'they', 'them', 'their', 'theirs', 'themselves', 'what', 'which', 'who', 'whom', 'this', 'that', \"that'll\", 'these', 'those', 'am', 'is', 'are', 'was', 'were', 'be', 'been', 'being', 'have', 'has', 'had', 'having', 'do', 'does', 'did', 'doing', 'a', 'an', 'the', 'and', 'but', 'if', 'or', 'because', 'as', 'until', 'while', 'of', 'at', 'by', 'for', 'with', 'about', 'against', 'between', 'into', 'through', 'during', 'before', 'after', 'above', 'below', 'to', 'from', 'up', 'down', 'in', 'out', 'on', 'off', 'over', 'under', 'again', 'further', 'then', 'once', 'here', 'there', 'when', 'where', 'why', 'how', 'all', 'any', 'both', 'each', 'few', 'more', 'most', 'other', 'some', 'such', 'no', 'nor', 'not', 'only', 'own', 'same', 'so', 'than', 'too', 'very', 's', 't', 'can', 'will', 'just', 'don', \"don't\", 'should', \"should've\", 'now', 'd', 'll', 'm', 'o', 're', 've', 'y', 'ain', 'aren', \"aren't\", 'couldn', \"couldn't\", 'didn', \"didn't\", 'doesn', \"doesn't\", 'hadn', \"hadn't\", 'hasn', \"hasn't\", 'haven', \"haven't\", 'isn', \"isn't\", 'ma', 'mightn', \"mightn't\", 'mustn', \"mustn't\", 'needn', \"needn't\", 'shan', \"shan't\", 'shouldn', \"shouldn't\", 'wasn', \"wasn't\", 'weren', \"weren't\", 'won', \"won't\", 'wouldn', \"wouldn't\"]\n"
     ]
    }
   ],
   "source": [
    "#****************************************\n",
    "#préparation des librairies et des outils\n",
    "#pour le nettoyage des tweets\n",
    "#****************************************\n",
    "\n",
    "#expressions régulières\n",
    "import re\n",
    "\n",
    "#ponctuations\n",
    "import string\n",
    "ponctuations = list(string.punctuation)\n",
    "print(ponctuations)\n",
    "\n",
    "#tokénisation\n",
    "#import nltk\n",
    "#nltk.download('punkt')\n",
    "from nltk.tokenize import word_tokenize\n",
    "\n",
    "#lemmatisation\n",
    "#nltk.download('wordnet')\n",
    "from nltk.stem import WordNetLemmatizer, PorterStemmer\n",
    "lem = WordNetLemmatizer()\n",
    "stemmer = PorterStemmer()\n",
    "\n",
    "#charger les stopwords\n",
    "#nltk.download('stopwords')\n",
    "from nltk.corpus import stopwords\n",
    "mots_vides = stopwords.words('english')\n",
    "print('\\n')\n",
    "print(mots_vides)"
   ]
  },
  {
   "cell_type": "markdown",
   "metadata": {},
   "source": [
    "### 3.1 Lemmatisation"
   ]
  },
  {
   "cell_type": "code",
   "execution_count": 10,
   "metadata": {},
   "outputs": [],
   "source": [
    "#fonction pour nettoyage de chaque document\n",
    "#tweet = corps du tweet = document\n",
    "#ponctuations : liste des ponctuations\n",
    "#stopwords : liste des stopwords à retirer\n",
    "#lem : fonction pour la lemmatisation des termes\n",
    "def clean_tweet_lem(tweet,ponctuations,stopwords,lem):\n",
    "    #harmonisation de la casse\n",
    "    temp = tweet.lower()\n",
    "    #retirer les contractions en anglais\n",
    "    temp = re.sub(\"'\", \"\", temp)\n",
    "    #retrait des @ (mentions)\n",
    "    temp = re.sub(\"@[A-Za-z0-9_]+\",\"\", temp)\n",
    "    #retrait des # (hashtags)\n",
    "    temp = re.sub(\"#[A-Za-z0-9_]+\",\"\", temp)\n",
    "    #retrait des liens web (http et https)\n",
    "    temp = re.sub(r'http\\S+', '', temp)\n",
    "    #retrait des ponctuations\n",
    "    temp = \"\".join([char for char in list(temp) if not (char in ponctuations)])\n",
    "    #retrait des nombres   \n",
    "    temp = re.sub(\"[0-9]\",\"\", temp)\n",
    "    #tokenisation\n",
    "    temp = word_tokenize(temp)\n",
    "    #lemmatisation des termes\n",
    "    temp = [lem.lemmatize(mot) for mot in temp]\n",
    "    #retrait des stopwords\n",
    "    temp = [mot for mot in temp if not mot in stopwords]\n",
    "    #retirer les tokens de moins de 3 caractères\n",
    "    temp = [mot for mot in temp if len(mot) >= 3]    \n",
    "    #reformer la chaîne\n",
    "    temp = \" \".join(mot for mot in temp)\n",
    "    return temp"
   ]
  },
  {
   "cell_type": "code",
   "execution_count": 11,
   "metadata": {},
   "outputs": [],
   "source": [
    "#appliquer le nettoyage au corpus\n",
    "corpus_lem = list(DS.text)\n",
    "corpus_lem = [clean_tweet_lem(doc,ponctuations,mots_vides,lem) for doc in corpus_lem]"
   ]
  },
  {
   "cell_type": "code",
   "execution_count": 12,
   "metadata": {},
   "outputs": [
    {
     "data": {
      "text/html": [
       "<div>\n",
       "<style scoped>\n",
       "    .dataframe tbody tr th:only-of-type {\n",
       "        vertical-align: middle;\n",
       "    }\n",
       "\n",
       "    .dataframe tbody tr th {\n",
       "        vertical-align: top;\n",
       "    }\n",
       "\n",
       "    .dataframe thead th {\n",
       "        text-align: right;\n",
       "    }\n",
       "</style>\n",
       "<table border=\"1\" class=\"dataframe\">\n",
       "  <thead>\n",
       "    <tr style=\"text-align: right;\">\n",
       "      <th></th>\n",
       "      <th>text</th>\n",
       "      <th>target</th>\n",
       "    </tr>\n",
       "  </thead>\n",
       "  <tbody>\n",
       "    <tr>\n",
       "      <th>0</th>\n",
       "      <td>oh god whits pissed n shes drivin, in the rain...</td>\n",
       "      <td>0</td>\n",
       "    </tr>\n",
       "    <tr>\n",
       "      <th>1</th>\n",
       "      <td>driving back from myrtle beach</td>\n",
       "      <td>0</td>\n",
       "    </tr>\n",
       "    <tr>\n",
       "      <th>2</th>\n",
       "      <td>Saying byebye to AM's Refuge and Extension  wi...</td>\n",
       "      <td>0</td>\n",
       "    </tr>\n",
       "    <tr>\n",
       "      <th>3</th>\n",
       "      <td>@SarahSaner Did you she fell of her horse agai...</td>\n",
       "      <td>0</td>\n",
       "    </tr>\n",
       "    <tr>\n",
       "      <th>4</th>\n",
       "      <td>@SalioElSol08  save me any.</td>\n",
       "      <td>0</td>\n",
       "    </tr>\n",
       "    <tr>\n",
       "      <th>5</th>\n",
       "      <td>bad day. Need to study more. Taking a break. E...</td>\n",
       "      <td>0</td>\n",
       "    </tr>\n",
       "    <tr>\n",
       "      <th>6</th>\n",
       "      <td>ready to get off work ugh...then i have to stu...</td>\n",
       "      <td>0</td>\n",
       "    </tr>\n",
       "    <tr>\n",
       "      <th>7</th>\n",
       "      <td>woke up with a headache</td>\n",
       "      <td>0</td>\n",
       "    </tr>\n",
       "    <tr>\n",
       "      <th>8</th>\n",
       "      <td>my bestie leaves for a week today</td>\n",
       "      <td>0</td>\n",
       "    </tr>\n",
       "    <tr>\n",
       "      <th>9</th>\n",
       "      <td>Or maybe it's the other way around. Europeans ...</td>\n",
       "      <td>0</td>\n",
       "    </tr>\n",
       "  </tbody>\n",
       "</table>\n",
       "</div>"
      ],
      "text/plain": [
       "                                                text  target\n",
       "0  oh god whits pissed n shes drivin, in the rain...       0\n",
       "1                    driving back from myrtle beach        0\n",
       "2  Saying byebye to AM's Refuge and Extension  wi...       0\n",
       "3  @SarahSaner Did you she fell of her horse agai...       0\n",
       "4                        @SalioElSol08  save me any.       0\n",
       "5  bad day. Need to study more. Taking a break. E...       0\n",
       "6  ready to get off work ugh...then i have to stu...       0\n",
       "7                           woke up with a headache        0\n",
       "8                 my bestie leaves for a week today        0\n",
       "9  Or maybe it's the other way around. Europeans ...       0"
      ]
     },
     "execution_count": 12,
     "metadata": {},
     "output_type": "execute_result"
    }
   ],
   "source": [
    "#nouveau data frame\n",
    "DC_lem = pd.DataFrame({'target':(DS.target==4).astype('int32'),'text':corpus_lem})\n",
    "\n",
    "#comparaison avant...\n",
    "DS.head(10)"
   ]
  },
  {
   "cell_type": "code",
   "execution_count": 13,
   "metadata": {},
   "outputs": [
    {
     "data": {
      "text/html": [
       "<div>\n",
       "<style scoped>\n",
       "    .dataframe tbody tr th:only-of-type {\n",
       "        vertical-align: middle;\n",
       "    }\n",
       "\n",
       "    .dataframe tbody tr th {\n",
       "        vertical-align: top;\n",
       "    }\n",
       "\n",
       "    .dataframe thead th {\n",
       "        text-align: right;\n",
       "    }\n",
       "</style>\n",
       "<table border=\"1\" class=\"dataframe\">\n",
       "  <thead>\n",
       "    <tr style=\"text-align: right;\">\n",
       "      <th></th>\n",
       "      <th>target</th>\n",
       "      <th>text</th>\n",
       "    </tr>\n",
       "  </thead>\n",
       "  <tbody>\n",
       "    <tr>\n",
       "      <th>0</th>\n",
       "      <td>0</td>\n",
       "      <td>god whit pissed shes drivin rain heelllpppp lol</td>\n",
       "    </tr>\n",
       "    <tr>\n",
       "      <th>1</th>\n",
       "      <td>0</td>\n",
       "      <td>driving back myrtle beach</td>\n",
       "    </tr>\n",
       "    <tr>\n",
       "      <th>2</th>\n",
       "      <td>0</td>\n",
       "      <td>saying byebye refuge extension great concert k...</td>\n",
       "    </tr>\n",
       "    <tr>\n",
       "      <th>3</th>\n",
       "      <td>0</td>\n",
       "      <td>fell horse amp landed hospital apparently pap ...</td>\n",
       "    </tr>\n",
       "    <tr>\n",
       "      <th>4</th>\n",
       "      <td>0</td>\n",
       "      <td>save</td>\n",
       "    </tr>\n",
       "    <tr>\n",
       "      <th>5</th>\n",
       "      <td>0</td>\n",
       "      <td>bad day need study taking break eating stress ...</td>\n",
       "    </tr>\n",
       "    <tr>\n",
       "      <th>6</th>\n",
       "      <td>0</td>\n",
       "      <td>ready get work ughthen study exam moro head at...</td>\n",
       "    </tr>\n",
       "    <tr>\n",
       "      <th>7</th>\n",
       "      <td>0</td>\n",
       "      <td>woke headache</td>\n",
       "    </tr>\n",
       "    <tr>\n",
       "      <th>8</th>\n",
       "      <td>0</td>\n",
       "      <td>bestie leaf week today</td>\n",
       "    </tr>\n",
       "    <tr>\n",
       "      <th>9</th>\n",
       "      <td>0</td>\n",
       "      <td>maybe way around european showing party</td>\n",
       "    </tr>\n",
       "  </tbody>\n",
       "</table>\n",
       "</div>"
      ],
      "text/plain": [
       "   target                                               text\n",
       "0       0    god whit pissed shes drivin rain heelllpppp lol\n",
       "1       0                          driving back myrtle beach\n",
       "2       0  saying byebye refuge extension great concert k...\n",
       "3       0  fell horse amp landed hospital apparently pap ...\n",
       "4       0                                               save\n",
       "5       0  bad day need study taking break eating stress ...\n",
       "6       0  ready get work ughthen study exam moro head at...\n",
       "7       0                                      woke headache\n",
       "8       0                             bestie leaf week today\n",
       "9       0            maybe way around european showing party"
      ]
     },
     "execution_count": 13,
     "metadata": {},
     "output_type": "execute_result"
    }
   ],
   "source": [
    "#... et après nettoyage\n",
    "DC_lem.head(10)"
   ]
  },
  {
   "cell_type": "code",
   "execution_count": 18,
   "metadata": {},
   "outputs": [
    {
     "name": "stdout",
     "output_type": "stream",
     "text": [
      "158\n"
     ]
    }
   ],
   "source": [
    "#des tweets vides après nettoyage ?\n",
    "print(DC_lem.loc[DC_lem.text==\"\"].shape[0])"
   ]
  },
  {
   "cell_type": "code",
   "execution_count": 19,
   "metadata": {},
   "outputs": [
    {
     "name": "stdout",
     "output_type": "stream",
     "text": [
      "(29842, 2)\n"
     ]
    }
   ],
   "source": [
    "#retrait des tweets correspondants\n",
    "DC_lem_ok = DC_lem.loc[DC_lem.text != \"\"]\n",
    "print(DC_lem_ok.shape)"
   ]
  },
  {
   "cell_type": "markdown",
   "metadata": {},
   "source": [
    "### 3.2 Stemmatisation"
   ]
  },
  {
   "cell_type": "code",
   "execution_count": 14,
   "metadata": {},
   "outputs": [],
   "source": [
    "#fonction pour nettoyage de chaque document\n",
    "#tweet = corps du tweet = document\n",
    "#ponctuations : liste des ponctuations\n",
    "#stopwords : liste des stopwords à retirer\n",
    "#stemmer : fonction pour la stemmatisation des termes\n",
    "def clean_tweet_stemmer(tweet,ponctuations,stopwords,stemmer):\n",
    "    #harmonisation de la casse\n",
    "    temp = tweet.lower()\n",
    "    #retirer les contractions en anglais\n",
    "    temp = re.sub(\"'\", \"\", temp)\n",
    "    #retrait des @ (mentions)\n",
    "    temp = re.sub(\"@[A-Za-z0-9_]+\",\"\", temp)\n",
    "    #retrait des # (hashtags)\n",
    "    temp = re.sub(\"#[A-Za-z0-9_]+\",\"\", temp)\n",
    "    #retrait des liens web (http et https)\n",
    "    temp = re.sub(r'http\\S+', '', temp)\n",
    "    #retrait des ponctuations\n",
    "    temp = \"\".join([char for char in list(temp) if not (char in ponctuations)])\n",
    "    #retrait des nombres   \n",
    "    temp = re.sub(\"[0-9]\",\"\", temp)\n",
    "    #tokenisation\n",
    "    temp = word_tokenize(temp)\n",
    "    #lemmatisation des termes\n",
    "    temp = [stemmer.stem(mot) for mot in temp]\n",
    "    #retrait des stopwords\n",
    "    temp = [mot for mot in temp if not mot in stopwords]\n",
    "    #retirer les tokens de moins de 3 caractères\n",
    "    temp = [mot for mot in temp if len(mot) >= 3]    \n",
    "    #reformer la chaîne\n",
    "    temp = \" \".join(mot for mot in temp)\n",
    "    return temp"
   ]
  },
  {
   "cell_type": "code",
   "execution_count": 15,
   "metadata": {},
   "outputs": [],
   "source": [
    "#appliquer le nettoyage au corpus\n",
    "corpus_stem = list(DS.text)\n",
    "corpus_stem = [clean_tweet_stemmer(doc,ponctuations,mots_vides,stemmer) for doc in corpus_stem]"
   ]
  },
  {
   "cell_type": "code",
   "execution_count": 16,
   "metadata": {},
   "outputs": [
    {
     "data": {
      "text/html": [
       "<div>\n",
       "<style scoped>\n",
       "    .dataframe tbody tr th:only-of-type {\n",
       "        vertical-align: middle;\n",
       "    }\n",
       "\n",
       "    .dataframe tbody tr th {\n",
       "        vertical-align: top;\n",
       "    }\n",
       "\n",
       "    .dataframe thead th {\n",
       "        text-align: right;\n",
       "    }\n",
       "</style>\n",
       "<table border=\"1\" class=\"dataframe\">\n",
       "  <thead>\n",
       "    <tr style=\"text-align: right;\">\n",
       "      <th></th>\n",
       "      <th>text</th>\n",
       "      <th>target</th>\n",
       "    </tr>\n",
       "  </thead>\n",
       "  <tbody>\n",
       "    <tr>\n",
       "      <th>0</th>\n",
       "      <td>oh god whits pissed n shes drivin, in the rain...</td>\n",
       "      <td>0</td>\n",
       "    </tr>\n",
       "    <tr>\n",
       "      <th>1</th>\n",
       "      <td>driving back from myrtle beach</td>\n",
       "      <td>0</td>\n",
       "    </tr>\n",
       "    <tr>\n",
       "      <th>2</th>\n",
       "      <td>Saying byebye to AM's Refuge and Extension  wi...</td>\n",
       "      <td>0</td>\n",
       "    </tr>\n",
       "    <tr>\n",
       "      <th>3</th>\n",
       "      <td>@SarahSaner Did you she fell of her horse agai...</td>\n",
       "      <td>0</td>\n",
       "    </tr>\n",
       "    <tr>\n",
       "      <th>4</th>\n",
       "      <td>@SalioElSol08  save me any.</td>\n",
       "      <td>0</td>\n",
       "    </tr>\n",
       "    <tr>\n",
       "      <th>5</th>\n",
       "      <td>bad day. Need to study more. Taking a break. E...</td>\n",
       "      <td>0</td>\n",
       "    </tr>\n",
       "    <tr>\n",
       "      <th>6</th>\n",
       "      <td>ready to get off work ugh...then i have to stu...</td>\n",
       "      <td>0</td>\n",
       "    </tr>\n",
       "    <tr>\n",
       "      <th>7</th>\n",
       "      <td>woke up with a headache</td>\n",
       "      <td>0</td>\n",
       "    </tr>\n",
       "    <tr>\n",
       "      <th>8</th>\n",
       "      <td>my bestie leaves for a week today</td>\n",
       "      <td>0</td>\n",
       "    </tr>\n",
       "    <tr>\n",
       "      <th>9</th>\n",
       "      <td>Or maybe it's the other way around. Europeans ...</td>\n",
       "      <td>0</td>\n",
       "    </tr>\n",
       "  </tbody>\n",
       "</table>\n",
       "</div>"
      ],
      "text/plain": [
       "                                                text  target\n",
       "0  oh god whits pissed n shes drivin, in the rain...       0\n",
       "1                    driving back from myrtle beach        0\n",
       "2  Saying byebye to AM's Refuge and Extension  wi...       0\n",
       "3  @SarahSaner Did you she fell of her horse agai...       0\n",
       "4                        @SalioElSol08  save me any.       0\n",
       "5  bad day. Need to study more. Taking a break. E...       0\n",
       "6  ready to get off work ugh...then i have to stu...       0\n",
       "7                           woke up with a headache        0\n",
       "8                 my bestie leaves for a week today        0\n",
       "9  Or maybe it's the other way around. Europeans ...       0"
      ]
     },
     "execution_count": 16,
     "metadata": {},
     "output_type": "execute_result"
    }
   ],
   "source": [
    "#nouveau data frame\n",
    "DC_stem = pd.DataFrame({'target':(DS.target==4).astype('int32'),'text':corpus_stem})\n",
    "\n",
    "#comparaison avant...\n",
    "DS.head(10)"
   ]
  },
  {
   "cell_type": "code",
   "execution_count": 17,
   "metadata": {},
   "outputs": [
    {
     "data": {
      "text/html": [
       "<div>\n",
       "<style scoped>\n",
       "    .dataframe tbody tr th:only-of-type {\n",
       "        vertical-align: middle;\n",
       "    }\n",
       "\n",
       "    .dataframe tbody tr th {\n",
       "        vertical-align: top;\n",
       "    }\n",
       "\n",
       "    .dataframe thead th {\n",
       "        text-align: right;\n",
       "    }\n",
       "</style>\n",
       "<table border=\"1\" class=\"dataframe\">\n",
       "  <thead>\n",
       "    <tr style=\"text-align: right;\">\n",
       "      <th></th>\n",
       "      <th>target</th>\n",
       "      <th>text</th>\n",
       "    </tr>\n",
       "  </thead>\n",
       "  <tbody>\n",
       "    <tr>\n",
       "      <th>0</th>\n",
       "      <td>0</td>\n",
       "      <td>god whit piss drivin rain heelllpppp lol</td>\n",
       "    </tr>\n",
       "    <tr>\n",
       "      <th>1</th>\n",
       "      <td>0</td>\n",
       "      <td>drive back myrtl beach</td>\n",
       "    </tr>\n",
       "    <tr>\n",
       "      <th>2</th>\n",
       "      <td>0</td>\n",
       "      <td>say byeby refug extens great concert kyle joaquin</td>\n",
       "    </tr>\n",
       "    <tr>\n",
       "      <th>3</th>\n",
       "      <td>0</td>\n",
       "      <td>fell hors amp land hospit appar pap startl hors</td>\n",
       "    </tr>\n",
       "    <tr>\n",
       "      <th>4</th>\n",
       "      <td>0</td>\n",
       "      <td>save ani</td>\n",
       "    </tr>\n",
       "    <tr>\n",
       "      <th>5</th>\n",
       "      <td>0</td>\n",
       "      <td>bad day need studi take break eat stress food joy</td>\n",
       "    </tr>\n",
       "    <tr>\n",
       "      <th>6</th>\n",
       "      <td>0</td>\n",
       "      <td>readi get work ughthen studi exam moro head at...</td>\n",
       "    </tr>\n",
       "    <tr>\n",
       "      <th>7</th>\n",
       "      <td>0</td>\n",
       "      <td>woke headach</td>\n",
       "    </tr>\n",
       "    <tr>\n",
       "      <th>8</th>\n",
       "      <td>0</td>\n",
       "      <td>besti leav week today</td>\n",
       "    </tr>\n",
       "    <tr>\n",
       "      <th>9</th>\n",
       "      <td>0</td>\n",
       "      <td>mayb way around european show parti</td>\n",
       "    </tr>\n",
       "  </tbody>\n",
       "</table>\n",
       "</div>"
      ],
      "text/plain": [
       "   target                                               text\n",
       "0       0           god whit piss drivin rain heelllpppp lol\n",
       "1       0                             drive back myrtl beach\n",
       "2       0  say byeby refug extens great concert kyle joaquin\n",
       "3       0    fell hors amp land hospit appar pap startl hors\n",
       "4       0                                           save ani\n",
       "5       0  bad day need studi take break eat stress food joy\n",
       "6       0  readi get work ughthen studi exam moro head at...\n",
       "7       0                                       woke headach\n",
       "8       0                              besti leav week today\n",
       "9       0                mayb way around european show parti"
      ]
     },
     "execution_count": 17,
     "metadata": {},
     "output_type": "execute_result"
    }
   ],
   "source": [
    "#... et après nettoyage\n",
    "DC_stem.head(10)"
   ]
  },
  {
   "cell_type": "code",
   "execution_count": 20,
   "metadata": {},
   "outputs": [
    {
     "name": "stdout",
     "output_type": "stream",
     "text": [
      "168\n"
     ]
    }
   ],
   "source": [
    "#des tweets vides après nettoyage ?\n",
    "print(DC_stem.loc[DC_stem.text==\"\"].shape[0])"
   ]
  },
  {
   "cell_type": "code",
   "execution_count": 21,
   "metadata": {},
   "outputs": [
    {
     "name": "stdout",
     "output_type": "stream",
     "text": [
      "(29832, 2)\n"
     ]
    }
   ],
   "source": [
    "#retrait des tweets correspondants\n",
    "DC_stem_ok = DC_stem.loc[DC_stem.text != \"\"]\n",
    "print(DC_stem_ok.shape)"
   ]
  },
  {
   "cell_type": "markdown",
   "metadata": {},
   "source": [
    "## **4. Subdivision train-test**"
   ]
  },
  {
   "cell_type": "code",
   "execution_count": 22,
   "metadata": {},
   "outputs": [
    {
     "name": "stdout",
     "output_type": "stream",
     "text": [
      "(20889, 2)\n",
      "(8953, 2)\n"
     ]
    }
   ],
   "source": [
    "#partition app-test\n",
    "from sklearn.model_selection import train_test_split\n",
    "dfTrain_lem, dfTest_lem = train_test_split(DC_lem_ok,train_size=0.7,stratify=DC_lem_ok.target,random_state=0)\n",
    "\n",
    "#vérification\n",
    "print(dfTrain_lem.shape)\n",
    "print(dfTest_lem.shape)"
   ]
  },
  {
   "cell_type": "code",
   "execution_count": 23,
   "metadata": {},
   "outputs": [
    {
     "name": "stdout",
     "output_type": "stream",
     "text": [
      "(20882, 2)\n",
      "(8950, 2)\n"
     ]
    }
   ],
   "source": [
    "dfTrain_stem, dfTest_stem = train_test_split(DC_stem_ok,train_size=0.7,stratify=DC_stem_ok.target,random_state=0)\n",
    "\n",
    "#vérification\n",
    "print(dfTrain_stem.shape)\n",
    "print(dfTest_stem.shape)"
   ]
  },
  {
   "cell_type": "markdown",
   "metadata": {},
   "source": [
    "## **5. Tokenisation**"
   ]
  },
  {
   "cell_type": "code",
   "execution_count": 69,
   "metadata": {},
   "outputs": [],
   "source": [
    "from tensorflow import keras"
   ]
  },
  {
   "cell_type": "code",
   "execution_count": 24,
   "metadata": {},
   "outputs": [
    {
     "name": "stdout",
     "output_type": "stream",
     "text": [
      "20889\n"
     ]
    }
   ],
   "source": [
    "#tokénisation avec Keras\n",
    "#num_words = None => sans limitation du nombre de termes à extraire\n",
    "from keras.preprocessing.text import Tokenizer\n",
    "tk_lem = Tokenizer(num_words=None)\n",
    "\n",
    "#création du dictionnaire à partir des documents\n",
    "#de l'échantillon d'apprentissage\n",
    "tk_lem.fit_on_texts(dfTrain_lem.text)\n",
    "\n",
    "#nombre de documents traités\n",
    "print(tk_lem.document_count)"
   ]
  },
  {
   "cell_type": "code",
   "execution_count": 82,
   "metadata": {},
   "outputs": [],
   "source": [
    "import io\n",
    "import json"
   ]
  },
  {
   "cell_type": "code",
   "execution_count": 83,
   "metadata": {},
   "outputs": [],
   "source": [
    "tokenizer_json = tk_lem.to_json()\n",
    "with io.open('tokenizer.json', 'w', encoding='utf-8') as f:\n",
    "    f.write(json.dumps(tokenizer_json, ensure_ascii=False))"
   ]
  },
  {
   "cell_type": "code",
   "execution_count": 36,
   "metadata": {},
   "outputs": [
    {
     "name": "stdout",
     "output_type": "stream",
     "text": [
      "20927\n"
     ]
    }
   ],
   "source": [
    "#taille du dictionnaire\n",
    "dico_size_lem = len(tk_lem.word_counts)\n",
    "print(dico_size_lem)"
   ]
  },
  {
   "cell_type": "code",
   "execution_count": 26,
   "metadata": {},
   "outputs": [
    {
     "name": "stdout",
     "output_type": "stream",
     "text": [
      "[('day', 1), ('get', 2), ('good', 3), ('like', 4), ('got', 5), ('work', 6), ('love', 7), ('time', 8), ('dont', 9), ('cant', 10)]\n"
     ]
    }
   ],
   "source": [
    "#liste des termes avec leur indice - les 10 premiers\n",
    "print(list(tk_lem.word_index.items())[:10])"
   ]
  },
  {
   "cell_type": "code",
   "execution_count": 27,
   "metadata": {},
   "outputs": [
    {
     "name": "stdout",
     "output_type": "stream",
     "text": [
      "[('hammondquot', 20918), ('thre', 20919), ('meron', 20920), ('dubbing', 20921), ('hintay', 20922), ('ttown', 20923), ('shervon', 20924), ('meowwwww', 20925), ('fiesty', 20926), ('hybridized', 20927)]\n"
     ]
    }
   ],
   "source": [
    "#les 10 derniers\n",
    "print(list(tk_lem.word_index.items())[-10:])"
   ]
  },
  {
   "cell_type": "markdown",
   "metadata": {},
   "source": [
    "On procède de la même façon avec nos données stemmatisées."
   ]
  },
  {
   "cell_type": "code",
   "execution_count": 37,
   "metadata": {},
   "outputs": [
    {
     "name": "stdout",
     "output_type": "stream",
     "text": [
      "Nombre de documents traités : 20882\n",
      "Taille du dictionnaire : 18342\n"
     ]
    }
   ],
   "source": [
    "tk_stem = Tokenizer(num_words=None)\n",
    "\n",
    "#création du dictionnaire à partir des documents\n",
    "#de l'échantillon d'apprentissage\n",
    "tk_stem.fit_on_texts(dfTrain_stem.text)\n",
    "\n",
    "#nombre de documents traités\n",
    "print(f\"Nombre de documents traités : {tk_stem.document_count}\")\n",
    "\n",
    "#taille du dictionnaire\n",
    "dico_size_stem = len(tk_stem.word_counts)\n",
    "print(f\"Taille du dictionnaire : {dico_size_stem}\")"
   ]
  },
  {
   "cell_type": "markdown",
   "metadata": {},
   "source": [
    "## **6. Séquences de tokens**"
   ]
  },
  {
   "cell_type": "code",
   "execution_count": 29,
   "metadata": {},
   "outputs": [
    {
     "name": "stdout",
     "output_type": "stream",
     "text": [
      "[[931, 18], [370, 33, 1242, 18, 7336, 45, 804, 137, 423, 47, 4965], [30, 129, 230, 8, 60]]\n"
     ]
    }
   ],
   "source": [
    "#transformation des documents en séquences de tokens\n",
    "#cf. la doc\n",
    "seqTrain_lem = tk_lem.texts_to_sequences(dfTrain_lem.text)\n",
    "print(seqTrain_lem[:3])"
   ]
  },
  {
   "cell_type": "code",
   "execution_count": 31,
   "metadata": {},
   "outputs": [
    {
     "name": "stdout",
     "output_type": "stream",
     "text": [
      "825                                               ohh want\n",
      "12557    tried make quoti want fallofautumndistroquot d...\n",
      "11298                              feel old cause time bed\n",
      "Name: text, dtype: object\n"
     ]
    },
    {
     "name": "stderr",
     "output_type": "stream",
     "text": [
      "C:\\Users\\Nolwenn\\AppData\\Local\\Temp\\ipykernel_11940\\3961145536.py:2: FutureWarning: The behavior of `series[i:j]` with an integer-dtype index is deprecated. In a future version, this will be treated as *label-based* indexing, consistent with e.g. `series[i]` lookups. To retain the old behavior, use `series.iloc[i:j]`. To get the future behavior, use `series.loc[i:j]`.\n",
      "  print(dfTrain_lem.text[:3])\n"
     ]
    }
   ],
   "source": [
    "#tweet corresp.\n",
    "print(dfTrain_lem.text[:3])"
   ]
  },
  {
   "cell_type": "code",
   "execution_count": 32,
   "metadata": {},
   "outputs": [
    {
     "name": "stdout",
     "output_type": "stream",
     "text": [
      "21\n"
     ]
    }
   ],
   "source": [
    "#longueur max des documents\n",
    "#dans l'échantillon train\n",
    "import numpy\n",
    "max_length_lem = numpy.max(numpy.array([len(doc) for doc in seqTrain_lem]))\n",
    "print(max_length_lem)"
   ]
  },
  {
   "cell_type": "code",
   "execution_count": 33,
   "metadata": {},
   "outputs": [
    {
     "name": "stdout",
     "output_type": "stream",
     "text": [
      "[[ 931   18    0    0    0    0    0    0    0    0    0    0    0    0\n",
      "     0    0    0    0    0    0    0    0    0    0    0    0]\n",
      " [ 370   33 1242   18 7336   45  804  137  423   47 4965    0    0    0\n",
      "     0    0    0    0    0    0    0    0    0    0    0    0]\n",
      " [  30  129  230    8   60    0    0    0    0    0    0    0    0    0\n",
      "     0    0    0    0    0    0    0    0    0    0    0    0]]\n"
     ]
    }
   ],
   "source": [
    "#transformer en pad_sequences pour \n",
    "#manipuler une structure de taille fixe\n",
    "#maxlen = max_length + marge pour éventuellement\n",
    "#gérer les docs. plus longs en déploiement\n",
    "\n",
    "#marge_length\n",
    "marge_length = 5\n",
    "\n",
    "from keras.utils import pad_sequences\n",
    "padTrain_lem = pad_sequences(seqTrain_lem,maxlen=max_length_lem + marge_length,padding='post')\n",
    "\n",
    "#les 3 premiers documents\n",
    "print(padTrain_lem[:3,:])"
   ]
  },
  {
   "cell_type": "markdown",
   "metadata": {},
   "source": [
    "On procède de la même façon avec les données stemmatisées."
   ]
  },
  {
   "cell_type": "code",
   "execution_count": 34,
   "metadata": {},
   "outputs": [
    {
     "name": "stdout",
     "output_type": "stream",
     "text": [
      "Longueur max : 22\n"
     ]
    }
   ],
   "source": [
    "#transformation des documents en séquences de tokens\n",
    "seqTrain_stem = tk_stem.texts_to_sequences(dfTrain_stem.text)\n",
    "max_length_stem = numpy.max(numpy.array([len(doc) for doc in seqTrain_stem]))\n",
    "print(f\"Longueur max : {max_length_stem}\")\n",
    "\n",
    "#transformer en pad_sequences pour \n",
    "#manipuler une structure de taille fixe\n",
    "#maxlen = max_length + marge pour éventuellement\n",
    "#gérer les docs. plus longs en déploiement\n",
    "\n",
    "#marge_length\n",
    "marge_length = 5\n",
    "padTrain_stem = pad_sequences(seqTrain_stem,maxlen=max_length_stem + marge_length,padding='post')"
   ]
  },
  {
   "cell_type": "markdown",
   "metadata": {},
   "source": [
    "## **7. Word Embedding**"
   ]
  },
  {
   "cell_type": "markdown",
   "metadata": {},
   "source": [
    "### 7.1 Glove"
   ]
  },
  {
   "cell_type": "markdown",
   "metadata": {},
   "source": [
    "[GloVe](https://nlp.stanford.edu/projects/glove/) : Global Vectors for Word Representation"
   ]
  },
  {
   "cell_type": "code",
   "execution_count": 63,
   "metadata": {},
   "outputs": [],
   "source": [
    "import numpy"
   ]
  },
  {
   "cell_type": "code",
   "execution_count": 64,
   "metadata": {},
   "outputs": [],
   "source": [
    "\n",
    "#structure dictionnaire pour stocker les couples\n",
    "#termes, vecteurs\n",
    "embeddings_index = {}\n",
    "#ouvrir le fichier en lecture\n",
    "#représentation dim = 200\n",
    "with open(\"glove.twitter.27B.200d.txt\",\"r\",encoding=\"utf-8\") as f:\n",
    "    #lire ligne par ligne et décomposer\n",
    "    for line in f:\n",
    "        word, coefs = line.split(maxsplit=1)\n",
    "        coefs = numpy.fromstring(coefs, \"f\", sep=\" \")\n",
    "        embeddings_index[word] = coefs\n"
   ]
  },
  {
   "cell_type": "code",
   "execution_count": 65,
   "metadata": {},
   "outputs": [
    {
     "name": "stdout",
     "output_type": "stream",
     "text": [
      "Found 1193514 word vectors.\n"
     ]
    }
   ],
   "source": [
    "#vérification du nombre de termes\n",
    "print(\"Found %s word vectors.\" % len(embeddings_index))"
   ]
  },
  {
   "cell_type": "code",
   "execution_count": 66,
   "metadata": {},
   "outputs": [
    {
     "name": "stdout",
     "output_type": "stream",
     "text": [
      "Termes du dico trouvés 15403 et non trouvés 5524\n"
     ]
    }
   ],
   "source": [
    "#nombre de tokens\n",
    "#taille du dictionnaire + 1\n",
    "num_tokens = dico_size_lem + 1\n",
    "\n",
    "#dimension de représentation\n",
    "#puisque nous avons choisi \"glove.6B.50d.txt\"\n",
    "embedding_dim = 200\n",
    "\n",
    "#nombre de termes trouvés\n",
    "#et liste des non trouvés\n",
    "hit = 0\n",
    "misses = []\n",
    "\n",
    "#*****************************************\n",
    "#remplir la matrice avec les coordonnées\n",
    "#issues de la représentation pré-entraînée\n",
    "#*****************************************\n",
    "#initialisation avec des valeurs 0\n",
    "embedding_matrix = numpy.zeros((num_tokens,embedding_dim))\n",
    "#remplissage à partir des représentations pré-entraînées\n",
    "#pourvu que le terme (de notre dictionnaire) recherché soit présent\n",
    "#dans la représentation pré-entraînée de GloVe\n",
    "for word, i in tk_lem.word_index.items():\n",
    "    embedding_vector = embeddings_index.get(word)\n",
    "    if not(embedding_vector is None):\n",
    "        #compléter la ligne n°i\n",
    "        embedding_matrix[i] = embedding_vector\n",
    "        #compteur\n",
    "        hit = hit + 1\n",
    "    else:\n",
    "        misses.append(word)\n",
    "        \n",
    "#affichage de contrôle\n",
    "print('Termes du dico trouvés {0} et non trouvés {1}'.format(hit,len(misses)))"
   ]
  },
  {
   "cell_type": "code",
   "execution_count": 67,
   "metadata": {},
   "outputs": [
    {
     "name": "stdout",
     "output_type": "stream",
     "text": [
      "['wwwtweeteraddercom', 'quoti', 'quotthe', 'ampamp', 'booo', 'boooo', 'gtlt', 'wwwtweeterfollowcom', 'atampt', 'ughhh', 'it´s', 'lvatt', 'loveeee', 'mequot', 'meeee', 'quotyou', 'heyyy', 'knowww', 'yeahhh', 'twitterfon']\n"
     ]
    }
   ],
   "source": [
    "#qqs exemples de termes non recensés\n",
    "#dans la représentation pré-entraînée\n",
    "print(misses[:20])"
   ]
  },
  {
   "cell_type": "markdown",
   "metadata": {},
   "source": [
    "### 7.2 Word2Vec"
   ]
  },
  {
   "cell_type": "code",
   "execution_count": null,
   "metadata": {},
   "outputs": [],
   "source": [
    "from gensim.models import Word2Vec"
   ]
  },
  {
   "cell_type": "code",
   "execution_count": null,
   "metadata": {},
   "outputs": [],
   "source": [
    "word2vec_model =  Word2Vec()"
   ]
  },
  {
   "cell_type": "markdown",
   "metadata": {},
   "source": [
    "## **8. Modélisation**"
   ]
  },
  {
   "cell_type": "markdown",
   "metadata": {},
   "source": [
    "### 8.1 Modèle simple avec embedding"
   ]
  },
  {
   "cell_type": "code",
   "execution_count": 38,
   "metadata": {},
   "outputs": [
    {
     "name": "stdout",
     "output_type": "stream",
     "text": [
      "Model: \"sequential_1\"\n",
      "_________________________________________________________________\n",
      " Layer (type)                Output Shape              Param #   \n",
      "=================================================================\n",
      " embedding (Embedding)       (None, 26, 10)            209280    \n",
      "                                                                 \n",
      " flatten (Flatten)           (None, 260)               0         \n",
      "                                                                 \n",
      " dense (Dense)               (None, 1)                 261       \n",
      "                                                                 \n",
      "=================================================================\n",
      "Total params: 209,541\n",
      "Trainable params: 209,541\n",
      "Non-trainable params: 0\n",
      "_________________________________________________________________\n",
      "None\n"
     ]
    }
   ],
   "source": [
    "#créer un modèle\n",
    "from keras.models import Sequential\n",
    "from keras.layers import Dense, Flatten\n",
    "from keras.layers import Embedding\n",
    "\n",
    "#perceptron multicouche\n",
    "#==> output_dim précise la taille de l'espace de\n",
    "#représentation dans laquelle seront projetés les termes\n",
    "#==> input_dim = dico_size + 1 parce que l'index\n",
    "#des termes commence à la colonne 1 (la colonne 0 existe mais n'est pas associée à un terme)\n",
    "pmc_lem = Sequential()\n",
    "pmc_lem.add(Embedding(input_dim = dico_size_lem + 1, output_dim = 10, input_length = max_length_lem + marge_length))\n",
    "pmc_lem.add(Flatten())\n",
    "pmc_lem.add(Dense(units=1,activation=\"sigmoid\"))\n",
    "\n",
    "#structure du réseau\n",
    "print(pmc_lem.summary())"
   ]
  },
  {
   "cell_type": "code",
   "execution_count": 40,
   "metadata": {},
   "outputs": [
    {
     "name": "stdout",
     "output_type": "stream",
     "text": [
      "Epoch 1/10\n"
     ]
    },
    {
     "name": "stderr",
     "output_type": "stream",
     "text": [
      "c:\\Users\\Nolwenn\\Documents\\AI_Engineer\\Projet_07\\ingenieurIA-P7\\project07_env\\lib\\site-packages\\keras\\engine\\data_adapter.py:1696: FutureWarning: The behavior of `series[i:j]` with an integer-dtype index is deprecated. In a future version, this will be treated as *label-based* indexing, consistent with e.g. `series[i]` lookups. To retain the old behavior, use `series.iloc[i:j]`. To get the future behavior, use `series.loc[i:j]`.\n",
      "  return t[start:end]\n"
     ]
    },
    {
     "name": "stdout",
     "output_type": "stream",
     "text": [
      "523/523 [==============================] - 1s 2ms/step - loss: 0.6676 - accuracy: 0.6105 - val_loss: 0.6077 - val_accuracy: 0.7140\n",
      "Epoch 2/10\n",
      "523/523 [==============================] - 1s 2ms/step - loss: 0.5183 - accuracy: 0.7828 - val_loss: 0.5321 - val_accuracy: 0.7348\n",
      "Epoch 3/10\n",
      "523/523 [==============================] - 1s 2ms/step - loss: 0.3994 - accuracy: 0.8434 - val_loss: 0.5251 - val_accuracy: 0.7377\n",
      "Epoch 4/10\n",
      "523/523 [==============================] - 1s 2ms/step - loss: 0.3110 - accuracy: 0.8862 - val_loss: 0.5344 - val_accuracy: 0.7326\n",
      "Epoch 5/10\n",
      "523/523 [==============================] - 1s 1ms/step - loss: 0.2432 - accuracy: 0.9159 - val_loss: 0.5565 - val_accuracy: 0.7262\n",
      "Epoch 6/10\n",
      "523/523 [==============================] - 1s 2ms/step - loss: 0.1924 - accuracy: 0.9414 - val_loss: 0.5761 - val_accuracy: 0.7228\n",
      "Epoch 7/10\n",
      "523/523 [==============================] - 1s 2ms/step - loss: 0.1544 - accuracy: 0.9560 - val_loss: 0.6044 - val_accuracy: 0.7202\n",
      "Epoch 8/10\n",
      "523/523 [==============================] - 1s 1ms/step - loss: 0.1273 - accuracy: 0.9632 - val_loss: 0.6370 - val_accuracy: 0.7097\n",
      "Epoch 9/10\n",
      "523/523 [==============================] - 1s 2ms/step - loss: 0.1059 - accuracy: 0.9711 - val_loss: 0.6688 - val_accuracy: 0.7133\n",
      "Epoch 10/10\n",
      "523/523 [==============================] - 1s 2ms/step - loss: 0.0905 - accuracy: 0.9752 - val_loss: 0.7037 - val_accuracy: 0.7092\n"
     ]
    }
   ],
   "source": [
    "#paramétrage de l'algorithme d'apprentissage\n",
    "pmc_lem.compile(loss=\"binary_crossentropy\",optimizer=\"adam\",metrics=['accuracy'])\n",
    "\n",
    "#lancement - une partie du train est réservée pour la validation\n",
    "#c.-à-d. pour un suivi plus réaliste des performances \n",
    "history_lem = pmc_lem.fit(padTrain_lem,dfTrain_lem.target,epochs=10,validation_split=0.2)"
   ]
  },
  {
   "cell_type": "code",
   "execution_count": 41,
   "metadata": {},
   "outputs": [
    {
     "data": {
      "image/png": "[encoded data removed]",
      "text/plain": [
       "<Figure size 640x480 with 1 Axes>"
      ]
     },
     "metadata": {},
     "output_type": "display_data"
    }
   ],
   "source": [
    "#graphique accuracy\n",
    "import matplotlib.pyplot as plt\n",
    "\n",
    "#fonction pour évolution de l'accuracy\n",
    "def graphique(history):\n",
    "    plt.plot(history.history['accuracy'])\n",
    "    plt.plot(history.history['val_accuracy'])\n",
    "    plt.title('model accuracy')\n",
    "    plt.ylabel('accuracy')\n",
    "    plt.xlabel('epoch')\n",
    "    plt.legend(['train', 'validation'], loc='upper left')\n",
    "    plt.show()\n",
    "    \n",
    "#appel de la fonction\n",
    "graphique(history_lem)"
   ]
  },
  {
   "cell_type": "markdown",
   "metadata": {},
   "source": [
    "Et avec nos données stemmatisées."
   ]
  },
  {
   "cell_type": "code",
   "execution_count": 42,
   "metadata": {},
   "outputs": [
    {
     "name": "stdout",
     "output_type": "stream",
     "text": [
      "Model: \"sequential_2\"\n",
      "_________________________________________________________________\n",
      " Layer (type)                Output Shape              Param #   \n",
      "=================================================================\n",
      " embedding_1 (Embedding)     (None, 27, 10)            183430    \n",
      "                                                                 \n",
      " flatten_1 (Flatten)         (None, 270)               0         \n",
      "                                                                 \n",
      " dense_1 (Dense)             (None, 1)                 271       \n",
      "                                                                 \n",
      "=================================================================\n",
      "Total params: 183,701\n",
      "Trainable params: 183,701\n",
      "Non-trainable params: 0\n",
      "_________________________________________________________________\n",
      "None\n"
     ]
    }
   ],
   "source": [
    "pmc_stem = Sequential()\n",
    "pmc_stem.add(Embedding(input_dim = dico_size_stem + 1, output_dim = 10, input_length = max_length_stem + marge_length))\n",
    "pmc_stem.add(Flatten())\n",
    "pmc_stem.add(Dense(units=1,activation=\"sigmoid\"))\n",
    "\n",
    "#structure du réseau\n",
    "print(pmc_stem.summary())"
   ]
  },
  {
   "cell_type": "code",
   "execution_count": 43,
   "metadata": {},
   "outputs": [
    {
     "name": "stdout",
     "output_type": "stream",
     "text": [
      "Epoch 1/10\n"
     ]
    },
    {
     "name": "stderr",
     "output_type": "stream",
     "text": [
      "c:\\Users\\Nolwenn\\Documents\\AI_Engineer\\Projet_07\\ingenieurIA-P7\\project07_env\\lib\\site-packages\\keras\\engine\\data_adapter.py:1696: FutureWarning: The behavior of `series[i:j]` with an integer-dtype index is deprecated. In a future version, this will be treated as *label-based* indexing, consistent with e.g. `series[i]` lookups. To retain the old behavior, use `series.iloc[i:j]`. To get the future behavior, use `series.loc[i:j]`.\n",
      "  return t[start:end]\n"
     ]
    },
    {
     "name": "stdout",
     "output_type": "stream",
     "text": [
      "523/523 [==============================] - 1s 2ms/step - loss: 0.6596 - accuracy: 0.6296 - val_loss: 0.5931 - val_accuracy: 0.7108\n",
      "Epoch 2/10\n",
      "523/523 [==============================] - 1s 1ms/step - loss: 0.5090 - accuracy: 0.7801 - val_loss: 0.5301 - val_accuracy: 0.7383\n",
      "Epoch 3/10\n",
      "523/523 [==============================] - 1s 1ms/step - loss: 0.4075 - accuracy: 0.8374 - val_loss: 0.5259 - val_accuracy: 0.7436\n",
      "Epoch 4/10\n",
      "523/523 [==============================] - 1s 2ms/step - loss: 0.3325 - accuracy: 0.8761 - val_loss: 0.5365 - val_accuracy: 0.7422\n",
      "Epoch 5/10\n",
      "523/523 [==============================] - 1s 1ms/step - loss: 0.2710 - accuracy: 0.9055 - val_loss: 0.5561 - val_accuracy: 0.7343\n",
      "Epoch 6/10\n",
      "523/523 [==============================] - 1s 1ms/step - loss: 0.2219 - accuracy: 0.9274 - val_loss: 0.5818 - val_accuracy: 0.7268\n",
      "Epoch 7/10\n",
      "523/523 [==============================] - 1s 1ms/step - loss: 0.1839 - accuracy: 0.9420 - val_loss: 0.6083 - val_accuracy: 0.7216\n",
      "Epoch 8/10\n",
      "523/523 [==============================] - 1s 1ms/step - loss: 0.1539 - accuracy: 0.9532 - val_loss: 0.6401 - val_accuracy: 0.7194\n",
      "Epoch 9/10\n",
      "523/523 [==============================] - 1s 1ms/step - loss: 0.1309 - accuracy: 0.9616 - val_loss: 0.6725 - val_accuracy: 0.7144\n",
      "Epoch 10/10\n",
      "523/523 [==============================] - 1s 1ms/step - loss: 0.1128 - accuracy: 0.9661 - val_loss: 0.7116 - val_accuracy: 0.7108\n"
     ]
    }
   ],
   "source": [
    "#paramétrage de l'algorithme d'apprentissage\n",
    "pmc_stem.compile(loss=\"binary_crossentropy\",optimizer=\"adam\",metrics=['accuracy'])\n",
    "\n",
    "#lancement - une partie du train est réservée pour la validation\n",
    "#c.-à-d. pour un suivi plus réaliste des performances \n",
    "history_stem = pmc_stem.fit(padTrain_stem,dfTrain_stem.target,epochs=10,validation_split=0.2)"
   ]
  },
  {
   "cell_type": "code",
   "execution_count": 44,
   "metadata": {},
   "outputs": [
    {
     "data": {
      "image/png": "[encoded data removed]",
      "text/plain": [
       "<Figure size 640x480 with 1 Axes>"
      ]
     },
     "metadata": {},
     "output_type": "display_data"
    }
   ],
   "source": [
    "#appel de la fonction\n",
    "graphique(history_stem)"
   ]
  },
  {
   "cell_type": "markdown",
   "metadata": {},
   "source": [
    "### 8.2 Modèle avec embedding Glove"
   ]
  },
  {
   "cell_type": "code",
   "execution_count": 70,
   "metadata": {},
   "outputs": [],
   "source": [
    "#construction de la couche initiale embeddings\n",
    "#à partir de la représentation pré-entraînée\n",
    "embedding_layer = Embedding(\n",
    "    input_dim = num_tokens,\n",
    "    output_dim = embedding_dim,\n",
    "    input_length = max_length_lem + marge_length,\n",
    "    embeddings_initializer=keras.initializers.Constant(embedding_matrix),#/!\\ très important\n",
    "    trainable = False #/!\\ très important !!!\n",
    ")"
   ]
  },
  {
   "cell_type": "code",
   "execution_count": 71,
   "metadata": {},
   "outputs": [
    {
     "name": "stdout",
     "output_type": "stream",
     "text": [
      "Model: \"sequential_10\"\n",
      "_________________________________________________________________\n",
      " Layer (type)                Output Shape              Param #   \n",
      "=================================================================\n",
      " embedding_9 (Embedding)     (None, 26, 200)           4185600   \n",
      "                                                                 \n",
      " flatten_2 (Flatten)         (None, 5200)              0         \n",
      "                                                                 \n",
      " dense_8 (Dense)             (None, 1)                 5201      \n",
      "                                                                 \n",
      "=================================================================\n",
      "Total params: 4,190,801\n",
      "Trainable params: 5,201\n",
      "Non-trainable params: 4,185,600\n",
      "_________________________________________________________________\n",
      "None\n"
     ]
    }
   ],
   "source": [
    "pmc_glove = Sequential()\n",
    "pmc_glove.add(embedding_layer)\n",
    "pmc_glove.add(Flatten())\n",
    "pmc_glove.add(Dense(units=1,activation=\"sigmoid\"))\n",
    "\n",
    "#structure du réseau\n",
    "print(pmc_glove.summary())"
   ]
  },
  {
   "cell_type": "code",
   "execution_count": 72,
   "metadata": {},
   "outputs": [
    {
     "name": "stdout",
     "output_type": "stream",
     "text": [
      "Epoch 1/10\n"
     ]
    },
    {
     "name": "stderr",
     "output_type": "stream",
     "text": [
      "c:\\Users\\Nolwenn\\Documents\\AI_Engineer\\Projet_07\\ingenieurIA-P7\\project07_env\\lib\\site-packages\\keras\\engine\\data_adapter.py:1696: FutureWarning: The behavior of `series[i:j]` with an integer-dtype index is deprecated. In a future version, this will be treated as *label-based* indexing, consistent with e.g. `series[i]` lookups. To retain the old behavior, use `series.iloc[i:j]`. To get the future behavior, use `series.loc[i:j]`.\n",
      "  return t[start:end]\n"
     ]
    },
    {
     "name": "stdout",
     "output_type": "stream",
     "text": [
      "523/523 [==============================] - 1s 1ms/step - loss: 0.5781 - accuracy: 0.7026 - val_loss: 0.5397 - val_accuracy: 0.7315\n",
      "Epoch 2/10\n",
      "523/523 [==============================] - 1s 1ms/step - loss: 0.5106 - accuracy: 0.7552 - val_loss: 0.5300 - val_accuracy: 0.7432\n",
      "Epoch 3/10\n",
      "523/523 [==============================] - 1s 1ms/step - loss: 0.4885 - accuracy: 0.7695 - val_loss: 0.5337 - val_accuracy: 0.7384\n",
      "Epoch 4/10\n",
      "523/523 [==============================] - 1s 1ms/step - loss: 0.4752 - accuracy: 0.7778 - val_loss: 0.5360 - val_accuracy: 0.7434\n",
      "Epoch 5/10\n",
      "523/523 [==============================] - 1s 1ms/step - loss: 0.4656 - accuracy: 0.7819 - val_loss: 0.5429 - val_accuracy: 0.7403\n",
      "Epoch 6/10\n",
      "523/523 [==============================] - 1s 1ms/step - loss: 0.4593 - accuracy: 0.7861 - val_loss: 0.5486 - val_accuracy: 0.7350\n",
      "Epoch 7/10\n",
      "523/523 [==============================] - 1s 1ms/step - loss: 0.4539 - accuracy: 0.7906 - val_loss: 0.5532 - val_accuracy: 0.7348\n",
      "Epoch 8/10\n",
      "523/523 [==============================] - 1s 1ms/step - loss: 0.4488 - accuracy: 0.7931 - val_loss: 0.5598 - val_accuracy: 0.7358\n",
      "Epoch 9/10\n",
      "523/523 [==============================] - 1s 1ms/step - loss: 0.4454 - accuracy: 0.7947 - val_loss: 0.5706 - val_accuracy: 0.7269\n",
      "Epoch 10/10\n",
      "523/523 [==============================] - 1s 1ms/step - loss: 0.4418 - accuracy: 0.7967 - val_loss: 0.5696 - val_accuracy: 0.7315\n"
     ]
    }
   ],
   "source": [
    "#paramétrage de l'algorithme d'apprentissage\n",
    "pmc_glove.compile(loss=\"binary_crossentropy\",optimizer=\"adam\",metrics=['accuracy'])\n",
    "\n",
    "#lancement - une partie du train est réservée pour la validation\n",
    "#c.-à-d. pour un suivi plus réaliste des performances \n",
    "history_glove = pmc_glove.fit(padTrain_lem,dfTrain_lem.target,epochs=10,validation_split=0.2)"
   ]
  },
  {
   "cell_type": "code",
   "execution_count": 73,
   "metadata": {},
   "outputs": [
    {
     "data": {
      "image/png": "[encoded data removed]",
      "text/plain": [
       "<Figure size 640x480 with 1 Axes>"
      ]
     },
     "metadata": {},
     "output_type": "display_data"
    }
   ],
   "source": [
    "graphique(history_glove)"
   ]
  },
  {
   "cell_type": "markdown",
   "metadata": {},
   "source": [
    "### 8.3 Modèle avec embedding et LSTM"
   ]
  },
  {
   "cell_type": "code",
   "execution_count": null,
   "metadata": {},
   "outputs": [],
   "source": [
    "from keras.layers import LSTM"
   ]
  },
  {
   "cell_type": "code",
   "execution_count": 75,
   "metadata": {},
   "outputs": [
    {
     "name": "stdout",
     "output_type": "stream",
     "text": [
      "Model: \"sequential_11\"\n",
      "_________________________________________________________________\n",
      " Layer (type)                Output Shape              Param #   \n",
      "=================================================================\n",
      " embedding_9 (Embedding)     (None, 26, 200)           4185600   \n",
      "                                                                 \n",
      " lstm_6 (LSTM)               (None, 256)               467968    \n",
      "                                                                 \n",
      " dense_9 (Dense)             (None, 1)                 257       \n",
      "                                                                 \n",
      "=================================================================\n",
      "Total params: 4,653,825\n",
      "Trainable params: 468,225\n",
      "Non-trainable params: 4,185,600\n",
      "_________________________________________________________________\n",
      "None\n"
     ]
    }
   ],
   "source": [
    "lstm = Sequential()\n",
    "lstm.add(embedding_layer)\n",
    "lstm.add(LSTM(256))\n",
    "lstm.add(Dense(1,activation='sigmoid'))\n",
    "lstm.compile(loss = 'binary_crossentropy', optimizer='adam',metrics = ['accuracy'])\n",
    "print(lstm.summary())"
   ]
  },
  {
   "cell_type": "code",
   "execution_count": 76,
   "metadata": {},
   "outputs": [
    {
     "name": "stdout",
     "output_type": "stream",
     "text": [
      "Epoch 1/10\n"
     ]
    },
    {
     "name": "stderr",
     "output_type": "stream",
     "text": [
      "c:\\Users\\Nolwenn\\Documents\\AI_Engineer\\Projet_07\\ingenieurIA-P7\\project07_env\\lib\\site-packages\\keras\\engine\\data_adapter.py:1696: FutureWarning: The behavior of `series[i:j]` with an integer-dtype index is deprecated. In a future version, this will be treated as *label-based* indexing, consistent with e.g. `series[i]` lookups. To retain the old behavior, use `series.iloc[i:j]`. To get the future behavior, use `series.loc[i:j]`.\n",
      "  return t[start:end]\n"
     ]
    },
    {
     "name": "stdout",
     "output_type": "stream",
     "text": [
      "523/523 [==============================] - 22s 40ms/step - loss: 0.5430 - accuracy: 0.7305 - val_loss: 0.5090 - val_accuracy: 0.7578\n",
      "Epoch 2/10\n",
      "523/523 [==============================] - 21s 39ms/step - loss: 0.4939 - accuracy: 0.7641 - val_loss: 0.5067 - val_accuracy: 0.7614\n",
      "Epoch 3/10\n",
      "523/523 [==============================] - 21s 40ms/step - loss: 0.4741 - accuracy: 0.7780 - val_loss: 0.5287 - val_accuracy: 0.7310\n",
      "Epoch 4/10\n",
      "523/523 [==============================] - 21s 40ms/step - loss: 0.4584 - accuracy: 0.7850 - val_loss: 0.4994 - val_accuracy: 0.7544\n",
      "Epoch 5/10\n",
      "523/523 [==============================] - 21s 40ms/step - loss: 0.4316 - accuracy: 0.7986 - val_loss: 0.5052 - val_accuracy: 0.7693\n",
      "Epoch 6/10\n",
      "523/523 [==============================] - 21s 41ms/step - loss: 0.4044 - accuracy: 0.8171 - val_loss: 0.5600 - val_accuracy: 0.7666\n",
      "Epoch 7/10\n",
      "523/523 [==============================] - 21s 40ms/step - loss: 0.3703 - accuracy: 0.8362 - val_loss: 0.5604 - val_accuracy: 0.7609\n",
      "Epoch 8/10\n",
      "523/523 [==============================] - 21s 41ms/step - loss: 0.3259 - accuracy: 0.8603 - val_loss: 0.5569 - val_accuracy: 0.7590\n",
      "Epoch 9/10\n",
      "523/523 [==============================] - 21s 41ms/step - loss: 0.2809 - accuracy: 0.8823 - val_loss: 0.6281 - val_accuracy: 0.7683\n",
      "Epoch 10/10\n",
      "523/523 [==============================] - 21s 41ms/step - loss: 0.2303 - accuracy: 0.9093 - val_loss: 0.6592 - val_accuracy: 0.7559\n"
     ]
    }
   ],
   "source": [
    "#paramétrage de l'algorithme d'apprentissage\n",
    "lstm.compile(loss=\"binary_crossentropy\",optimizer=\"adam\",metrics=['accuracy'])\n",
    "\n",
    "#lancement - une partie du train est réservée pour la validation\n",
    "#c.-à-d. pour un suivi plus réaliste des performances \n",
    "history_lstm = lstm.fit(padTrain_lem,dfTrain_lem.target,epochs=10,validation_split=0.2)"
   ]
  },
  {
   "cell_type": "code",
   "execution_count": 77,
   "metadata": {},
   "outputs": [
    {
     "data": {
      "image/png": "[encoded data removed]",
      "text/plain": [
       "<Figure size 640x480 with 1 Axes>"
      ]
     },
     "metadata": {},
     "output_type": "display_data"
    }
   ],
   "source": [
    "#appel de la fonction\n",
    "graphique(history_lstm)"
   ]
  },
  {
   "cell_type": "code",
   "execution_count": 80,
   "metadata": {},
   "outputs": [],
   "source": [
    "# sauvegarde du modèle\n",
    "lstm.save('lstm_model.h5')"
   ]
  },
  {
   "cell_type": "markdown",
   "metadata": {},
   "source": [
    "### 8.3 Modèle avec embedding et LSTM bidirectionnel"
   ]
  },
  {
   "cell_type": "code",
   "execution_count": 79,
   "metadata": {},
   "outputs": [],
   "source": [
    "from keras.layers import Bidirectional, Dropout"
   ]
  },
  {
   "cell_type": "code",
   "execution_count": null,
   "metadata": {},
   "outputs": [],
   "source": [
    "lstm_bidir = Sequential()\n",
    "lstm_bidir.add(embedding_layer)\n",
    "lstm_bidir.add(Bidirectional(LSTM(128)))\n",
    "lstm_bidir.add(Dense(100, input_shape=(10000,), activation=\"relu\"))\n",
    "lstm_bidir.add(Dropout(0.2))\n",
    "lstm_bidir.add(Dense(10, activation=\"relu\"))\n",
    "lstm_bidir.add(Dense(1,activation='sigmoid'))\n",
    "lstm_bidir.compile(loss = 'binary_crossentropy', optimizer='adam',metrics = ['accuracy'])\n",
    "print(lstm_bidir.summary())"
   ]
  },
  {
   "cell_type": "markdown",
   "metadata": {},
   "source": [
    "### 8.4 Modèle avec BERT"
   ]
  },
  {
   "cell_type": "markdown",
   "metadata": {},
   "source": [
    "## **9. Evaluation**"
   ]
  },
  {
   "cell_type": "code",
   "execution_count": 46,
   "metadata": {},
   "outputs": [
    {
     "name": "stdout",
     "output_type": "stream",
     "text": [
      "26279                               know walked upon dream\n",
      "10697                yay reunited cant upload photo though\n",
      "24542    think election rejoicement tread water really ...\n",
      "Name: text, dtype: object\n",
      "\n",
      "\n",
      "[[  16 1614 4217  311    0    0    0    0    0    0    0    0    0    0\n",
      "     0    0    0    0    0    0    0    0    0    0    0    0]\n",
      " [ 110   10 1198  336   59    0    0    0    0    0    0    0    0    0\n",
      "     0    0    0    0    0    0    0    0    0    0    0    0]\n",
      " [  22 2528 5995  525   17   72    0    0    0    0    0    0    0    0\n",
      "     0    0    0    0    0    0    0    0    0    0    0    0]]\n"
     ]
    },
    {
     "name": "stderr",
     "output_type": "stream",
     "text": [
      "C:\\Users\\Nolwenn\\AppData\\Local\\Temp\\ipykernel_11940\\1443794578.py:9: FutureWarning: The behavior of `series[i:j]` with an integer-dtype index is deprecated. In a future version, this will be treated as *label-based* indexing, consistent with e.g. `series[i]` lookups. To retain the old behavior, use `series.iloc[i:j]`. To get the future behavior, use `series.loc[i:j]`.\n",
      "  print(dfTest_lem.text[:3])\n"
     ]
    }
   ],
   "source": [
    "#pad pour le test\n",
    "seqTest_lem = tk_lem.texts_to_sequences(dfTest_lem.text)\n",
    "padTest_lem = pad_sequences(seqTest_lem,maxlen=max_length_lem + marge_length,padding='post')\n",
    "\n",
    "seqTest_stem = tk_stem.texts_to_sequences(dfTest_stem.text)\n",
    "padTest_stem = pad_sequences(seqTest_stem,maxlen=max_length_stem + marge_length,padding='post')\n",
    "\n",
    "#tweets\n",
    "print(dfTest_lem.text[:3])\n",
    "\n",
    "#vérif.\n",
    "print('\\n')\n",
    "print(padTest_lem[:3,:])"
   ]
  },
  {
   "cell_type": "code",
   "execution_count": 47,
   "metadata": {},
   "outputs": [
    {
     "name": "stdout",
     "output_type": "stream",
     "text": [
      "280/280 [==============================] - 0s 762us/step - loss: 0.7488 - accuracy: 0.7075\n",
      "[0.7487790584564209, 0.7074723839759827]\n"
     ]
    }
   ],
   "source": [
    "#premier modèle avec lemmatisation\n",
    "#évaluation en test avec evaluate()\n",
    "print(pmc_lem.evaluate(padTest_lem,dfTest_lem.target))"
   ]
  },
  {
   "cell_type": "code",
   "execution_count": 48,
   "metadata": {},
   "outputs": [
    {
     "name": "stdout",
     "output_type": "stream",
     "text": [
      "280/280 [==============================] - 0s 771us/step - loss: 0.7327 - accuracy: 0.7086\n",
      "[0.7326883673667908, 0.7086033225059509]\n"
     ]
    }
   ],
   "source": [
    "#2nd modèle avec stemmatisation\n",
    "#évaluation en test avec evaluate()\n",
    "print(pmc_stem.evaluate(padTest_stem,dfTest_stem.target))"
   ]
  },
  {
   "cell_type": "code",
   "execution_count": 78,
   "metadata": {},
   "outputs": [
    {
     "name": "stdout",
     "output_type": "stream",
     "text": [
      "280/280 [==============================] - 5s 16ms/step - loss: 0.6765 - accuracy: 0.7435\n",
      "[0.6764681339263916, 0.743549644947052]\n"
     ]
    }
   ],
   "source": [
    "# évaluation modèle LSTM avec Glove et lemmatisation\n",
    "print(lstm.evaluate(padTest_lem,dfTest_lem.target))"
   ]
  },
  {
   "cell_type": "code",
   "execution_count": 74,
   "metadata": {},
   "outputs": [
    {
     "name": "stdout",
     "output_type": "stream",
     "text": [
      "280/280 [==============================] - 0s 841us/step - loss: 0.5717 - accuracy: 0.7221\n",
      "[0.5717283487319946, 0.7221043109893799]\n"
     ]
    }
   ],
   "source": [
    "# évaluation modèle avec embedding Glove\n",
    "print(pmc_glove.evaluate(padTest_lem,dfTest_lem.target))"
   ]
  },
  {
   "cell_type": "markdown",
   "metadata": {},
   "source": [
    "## **10. Choix du modèle**"
   ]
  },
  {
   "cell_type": "markdown",
   "metadata": {},
   "source": [
    "## **11. Simulation sur un jeu de données plus important**"
   ]
  },
  {
   "cell_type": "markdown",
   "metadata": {},
   "source": [
    "## **Conclusion**"
   ]
  },
  {
   "cell_type": "code",
   "execution_count": null,
   "metadata": {},
   "outputs": [],
   "source": []
  }
 ],
 "metadata": {
  "kernelspec": {
   "display_name": "Python 3.10.7 ('project07_env': venv)",
   "language": "python",
   "name": "python3"
  },
  "language_info": {
   "codemirror_mode": {
    "name": "ipython",
    "version": 3
   },
   "file_extension": ".py",
   "mimetype": "text/x-python",
   "name": "python",
   "nbconvert_exporter": "python",
   "pygments_lexer": "ipython3",
   "version": "3.10.7"
  },
  "orig_nbformat": 4,
  "vscode": {
   "interpreter": {
    "hash": "f59eb600fb6bc2b176603915aacf306a5c07fe351bbb5910ef04bf223f9e80fc"
   }
  }
 },
 "nbformat": 4,
 "nbformat_minor": 2
}
